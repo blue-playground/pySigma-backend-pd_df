{
 "cells": [
  {
   "cell_type": "code",
   "execution_count": 2,
   "metadata": {},
   "outputs": [
    {
     "name": "stdout",
     "output_type": "stream",
     "text": [
      "Defaulting to user installation because normal site-packages is not writeable\n",
      "Collecting pandas\n",
      "  Downloading pandas-2.2.3-cp39-cp39-macosx_11_0_arm64.whl (11.3 MB)\n",
      "\u001b[K     |████████████████████████████████| 11.3 MB 897 kB/s eta 0:00:01\n",
      "\u001b[?25hRequirement already satisfied: python-dateutil>=2.8.2 in /Users/sagarwal/Library/Python/3.9/lib/python/site-packages (from pandas) (2.9.0.post0)\n",
      "Collecting numpy>=1.22.4\n",
      "  Downloading numpy-2.0.2-cp39-cp39-macosx_14_0_arm64.whl (5.3 MB)\n",
      "\u001b[K     |████████████████████████████████| 5.3 MB 17.5 MB/s eta 0:00:01\n",
      "\u001b[?25hCollecting tzdata>=2022.7\n",
      "  Downloading tzdata-2024.2-py2.py3-none-any.whl (346 kB)\n",
      "\u001b[K     |████████████████████████████████| 346 kB 17.2 MB/s eta 0:00:01\n",
      "\u001b[?25hCollecting pytz>=2020.1\n",
      "  Downloading pytz-2024.2-py2.py3-none-any.whl (508 kB)\n",
      "\u001b[K     |████████████████████████████████| 508 kB 16.8 MB/s eta 0:00:01\n",
      "\u001b[?25hRequirement already satisfied: six>=1.5 in /Library/Developer/CommandLineTools/Library/Frameworks/Python3.framework/Versions/3.9/lib/python3.9/site-packages (from python-dateutil>=2.8.2->pandas) (1.15.0)\n",
      "Installing collected packages: tzdata, pytz, numpy, pandas\n",
      "Successfully installed numpy-2.0.2 pandas-2.2.3 pytz-2024.2 tzdata-2024.2\n",
      "\u001b[33mWARNING: You are using pip version 21.2.4; however, version 24.2 is available.\n",
      "You should consider upgrading via the '/Library/Developer/CommandLineTools/usr/bin/python3 -m pip install --upgrade pip' command.\u001b[0m\n",
      "Note: you may need to restart the kernel to use updated packages.\n"
     ]
    }
   ],
   "source": [
    "%pip install pandas"
   ]
  },
  {
   "cell_type": "code",
   "execution_count": 3,
   "metadata": {},
   "outputs": [],
   "source": [
    "import pandas as pd"
   ]
  },
  {
   "cell_type": "code",
   "execution_count": 4,
   "metadata": {},
   "outputs": [],
   "source": [
    "df = pd.DataFrame({'Name': ['RACHEL', 'MONICA', 'PHOEBE',\n",
    "                                   'ROSS', 'CHANDLER', 'JOEY'],\n",
    "                          \n",
    "                          'Age': [30, 35, 37, 33, 34, 30],\n",
    "                          \n",
    "                          'Salary': [100000, 93000, 88000, 120000, 94000, 95000],\n",
    "                          \n",
    "                          'JOB': ['DESIGNER', 'CHEF', 'MASUS', 'PALENTOLOGY',\n",
    "                                  'IT', 'ARTIST']})"
   ]
  },
  {
   "cell_type": "code",
   "execution_count": 39,
   "metadata": {},
   "outputs": [
    {
     "ename": "TypeError",
     "evalue": "'StringMethods' object is not callable",
     "output_type": "error",
     "traceback": [
      "\u001b[0;31m---------------------------------------------------------------------------\u001b[0m",
      "\u001b[0;31mTypeError\u001b[0m                                 Traceback (most recent call last)",
      "\u001b[1;32m/root/pySigma-backend-pd_df/testingdf.ipynb Cell 4\u001b[0m line \u001b[0;36m1\n\u001b[0;32m----> <a href='vscode-notebook-cell://ssh-remote%2B192.168.1.15/root/pySigma-backend-pd_df/testingdf.ipynb#X11sdnNjb2RlLXJlbW90ZQ%3D%3D?line=0'>1</a>\u001b[0m df[\u001b[39m'\u001b[39m\u001b[39mName\u001b[39m\u001b[39m'\u001b[39m] \u001b[39m=\u001b[39m df[\u001b[39m'\u001b[39;49m\u001b[39mName\u001b[39;49m\u001b[39m'\u001b[39;49m]\u001b[39m.\u001b[39;49mstr()\u001b[39m.\u001b[39mtrim()\n",
      "\u001b[0;31mTypeError\u001b[0m: 'StringMethods' object is not callable"
     ]
    }
   ],
   "source": [
    "df['Name'] = df['Name'].str().trim()"
   ]
  },
  {
   "cell_type": "code",
   "execution_count": 5,
   "metadata": {},
   "outputs": [
    {
     "data": {
      "text/html": [
       "<div>\n",
       "<style scoped>\n",
       "    .dataframe tbody tr th:only-of-type {\n",
       "        vertical-align: middle;\n",
       "    }\n",
       "\n",
       "    .dataframe tbody tr th {\n",
       "        vertical-align: top;\n",
       "    }\n",
       "\n",
       "    .dataframe thead th {\n",
       "        text-align: right;\n",
       "    }\n",
       "</style>\n",
       "<table border=\"1\" class=\"dataframe\">\n",
       "  <thead>\n",
       "    <tr style=\"text-align: right;\">\n",
       "      <th></th>\n",
       "      <th>Name</th>\n",
       "      <th>Age</th>\n",
       "      <th>Salary</th>\n",
       "      <th>JOB</th>\n",
       "    </tr>\n",
       "  </thead>\n",
       "  <tbody>\n",
       "    <tr>\n",
       "      <th>0</th>\n",
       "      <td>RACHEL</td>\n",
       "      <td>30</td>\n",
       "      <td>100000</td>\n",
       "      <td>DESIGNER</td>\n",
       "    </tr>\n",
       "    <tr>\n",
       "      <th>1</th>\n",
       "      <td>MONICA</td>\n",
       "      <td>35</td>\n",
       "      <td>93000</td>\n",
       "      <td>CHEF</td>\n",
       "    </tr>\n",
       "    <tr>\n",
       "      <th>2</th>\n",
       "      <td>PHOEBE</td>\n",
       "      <td>37</td>\n",
       "      <td>88000</td>\n",
       "      <td>MASUS</td>\n",
       "    </tr>\n",
       "    <tr>\n",
       "      <th>3</th>\n",
       "      <td>ROSS</td>\n",
       "      <td>33</td>\n",
       "      <td>120000</td>\n",
       "      <td>PALENTOLOGY</td>\n",
       "    </tr>\n",
       "    <tr>\n",
       "      <th>4</th>\n",
       "      <td>CHANDLER</td>\n",
       "      <td>34</td>\n",
       "      <td>94000</td>\n",
       "      <td>IT</td>\n",
       "    </tr>\n",
       "    <tr>\n",
       "      <th>5</th>\n",
       "      <td>JOEY</td>\n",
       "      <td>30</td>\n",
       "      <td>95000</td>\n",
       "      <td>ARTIST</td>\n",
       "    </tr>\n",
       "  </tbody>\n",
       "</table>\n",
       "</div>"
      ],
      "text/plain": [
       "       Name  Age  Salary          JOB\n",
       "0    RACHEL   30  100000     DESIGNER\n",
       "1    MONICA   35   93000         CHEF\n",
       "2    PHOEBE   37   88000        MASUS\n",
       "3      ROSS   33  120000  PALENTOLOGY\n",
       "4  CHANDLER   34   94000           IT\n",
       "5      JOEY   30   95000       ARTIST"
      ]
     },
     "execution_count": 5,
     "metadata": {},
     "output_type": "execute_result"
    }
   ],
   "source": [
    "df"
   ]
  },
  {
   "cell_type": "code",
   "execution_count": 9,
   "metadata": {},
   "outputs": [
    {
     "ename": "SyntaxError",
     "evalue": "invalid syntax (<unknown>, line 1)",
     "output_type": "error",
     "traceback": [
      "Traceback \u001b[0;36m(most recent call last)\u001b[0m:\n",
      "\u001b[0m  File \u001b[1;32m~/Library/Python/3.9/lib/python/site-packages/IPython/core/interactiveshell.py:3550\u001b[0m in \u001b[1;35mrun_code\u001b[0m\n    exec(code_obj, self.user_global_ns, self.user_ns)\u001b[0m\n",
      "\u001b[0m  Cell \u001b[1;32mIn[9], line 1\u001b[0m\n    df.query(\"Name==['MONICA','PHOEBE'] OR Name.str.contains('R*')\")\u001b[0m\n",
      "\u001b[0m  File \u001b[1;32m~/Library/Python/3.9/lib/python/site-packages/pandas/core/frame.py:4823\u001b[0m in \u001b[1;35mquery\u001b[0m\n    res = self.eval(expr, **kwargs)\u001b[0m\n",
      "\u001b[0m  File \u001b[1;32m~/Library/Python/3.9/lib/python/site-packages/pandas/core/frame.py:4949\u001b[0m in \u001b[1;35meval\u001b[0m\n    return _eval(expr, inplace=inplace, **kwargs)\u001b[0m\n",
      "\u001b[0m  File \u001b[1;32m~/Library/Python/3.9/lib/python/site-packages/pandas/core/computation/eval.py:336\u001b[0m in \u001b[1;35meval\u001b[0m\n    parsed_expr = Expr(expr, engine=engine, parser=parser, env=env)\u001b[0m\n",
      "\u001b[0m  File \u001b[1;32m~/Library/Python/3.9/lib/python/site-packages/pandas/core/computation/expr.py:805\u001b[0m in \u001b[1;35m__init__\u001b[0m\n    self.terms = self.parse()\u001b[0m\n",
      "\u001b[0m  File \u001b[1;32m~/Library/Python/3.9/lib/python/site-packages/pandas/core/computation/expr.py:824\u001b[0m in \u001b[1;35mparse\u001b[0m\n    return self._visitor.visit(self.expr)\u001b[0m\n",
      "\u001b[0m  File \u001b[1;32m~/Library/Python/3.9/lib/python/site-packages/pandas/core/computation/expr.py:407\u001b[0m in \u001b[1;35mvisit\u001b[0m\n    raise e\u001b[0m\n",
      "\u001b[0m  File \u001b[1;32m~/Library/Python/3.9/lib/python/site-packages/pandas/core/computation/expr.py:403\u001b[0m in \u001b[1;35mvisit\u001b[0m\n    node = ast.fix_missing_locations(ast.parse(clean))\u001b[0m\n",
      "\u001b[0;36m  File \u001b[0;32m/Library/Developer/CommandLineTools/Library/Frameworks/Python3.framework/Versions/3.9/lib/python3.9/ast.py:50\u001b[0;36m in \u001b[0;35mparse\u001b[0;36m\n\u001b[0;31m    return compile(source, filename, mode, flags,\u001b[0;36m\n",
      "\u001b[0;36m  File \u001b[0;32m<unknown>:1\u001b[0;36m\u001b[0m\n\u001b[0;31m    Name ==['MONICA','PHOEBE']OR Name .str .contains ('R*')\u001b[0m\n\u001b[0m                              ^\u001b[0m\n\u001b[0;31mSyntaxError\u001b[0m\u001b[0;31m:\u001b[0m invalid syntax\n"
     ]
    }
   ],
   "source": [
    "df.query(\"Name==['MONICA','PHOEBE'] OR Name.str.contains('R*')\")"
   ]
  },
  {
   "cell_type": "code",
   "execution_count": 13,
   "metadata": {},
   "outputs": [
    {
     "data": {
      "text/html": [
       "<div>\n",
       "<style scoped>\n",
       "    .dataframe tbody tr th:only-of-type {\n",
       "        vertical-align: middle;\n",
       "    }\n",
       "\n",
       "    .dataframe tbody tr th {\n",
       "        vertical-align: top;\n",
       "    }\n",
       "\n",
       "    .dataframe thead th {\n",
       "        text-align: right;\n",
       "    }\n",
       "</style>\n",
       "<table border=\"1\" class=\"dataframe\">\n",
       "  <thead>\n",
       "    <tr style=\"text-align: right;\">\n",
       "      <th></th>\n",
       "      <th>Name</th>\n",
       "      <th>Age</th>\n",
       "      <th>Salary</th>\n",
       "      <th>JOB</th>\n",
       "    </tr>\n",
       "  </thead>\n",
       "  <tbody>\n",
       "    <tr>\n",
       "      <th>0</th>\n",
       "      <td>RACHEL</td>\n",
       "      <td>30</td>\n",
       "      <td>100000</td>\n",
       "      <td>DESIGNER</td>\n",
       "    </tr>\n",
       "    <tr>\n",
       "      <th>3</th>\n",
       "      <td>ROSS</td>\n",
       "      <td>33</td>\n",
       "      <td>120000</td>\n",
       "      <td>PALENTOLOGY</td>\n",
       "    </tr>\n",
       "    <tr>\n",
       "      <th>4</th>\n",
       "      <td>CHANDLER</td>\n",
       "      <td>34</td>\n",
       "      <td>94000</td>\n",
       "      <td>IT</td>\n",
       "    </tr>\n",
       "  </tbody>\n",
       "</table>\n",
       "</div>"
      ],
      "text/plain": [
       "       Name  Age  Salary          JOB\n",
       "0    RACHEL   30  100000     DESIGNER\n",
       "3      ROSS   33  120000  PALENTOLOGY\n",
       "4  CHANDLER   34   94000           IT"
      ]
     },
     "execution_count": 13,
     "metadata": {},
     "output_type": "execute_result"
    }
   ],
   "source": [
    "df.query(\"Name.str.contains('R+') | Name.str.startswith('RA')\")"
   ]
  },
  {
   "cell_type": "code",
   "execution_count": 16,
   "metadata": {},
   "outputs": [
    {
     "data": {
      "text/html": [
       "<div>\n",
       "<style scoped>\n",
       "    .dataframe tbody tr th:only-of-type {\n",
       "        vertical-align: middle;\n",
       "    }\n",
       "\n",
       "    .dataframe tbody tr th {\n",
       "        vertical-align: top;\n",
       "    }\n",
       "\n",
       "    .dataframe thead th {\n",
       "        text-align: right;\n",
       "    }\n",
       "</style>\n",
       "<table border=\"1\" class=\"dataframe\">\n",
       "  <thead>\n",
       "    <tr style=\"text-align: right;\">\n",
       "      <th></th>\n",
       "      <th>Name</th>\n",
       "      <th>Age</th>\n",
       "      <th>Salary</th>\n",
       "      <th>JOB</th>\n",
       "    </tr>\n",
       "  </thead>\n",
       "  <tbody>\n",
       "    <tr>\n",
       "      <th>0</th>\n",
       "      <td>RACHEL</td>\n",
       "      <td>30</td>\n",
       "      <td>100000</td>\n",
       "      <td>DESIGNER</td>\n",
       "    </tr>\n",
       "    <tr>\n",
       "      <th>1</th>\n",
       "      <td>MONICA</td>\n",
       "      <td>35</td>\n",
       "      <td>93000</td>\n",
       "      <td>CHEF</td>\n",
       "    </tr>\n",
       "    <tr>\n",
       "      <th>2</th>\n",
       "      <td>PHOEBE</td>\n",
       "      <td>37</td>\n",
       "      <td>88000</td>\n",
       "      <td>MASUS</td>\n",
       "    </tr>\n",
       "    <tr>\n",
       "      <th>3</th>\n",
       "      <td>ROSS</td>\n",
       "      <td>33</td>\n",
       "      <td>120000</td>\n",
       "      <td>PALENTOLOGY</td>\n",
       "    </tr>\n",
       "    <tr>\n",
       "      <th>4</th>\n",
       "      <td>CHANDLER</td>\n",
       "      <td>34</td>\n",
       "      <td>94000</td>\n",
       "      <td>IT</td>\n",
       "    </tr>\n",
       "    <tr>\n",
       "      <th>5</th>\n",
       "      <td>JOEY</td>\n",
       "      <td>30</td>\n",
       "      <td>95000</td>\n",
       "      <td>ARTIST</td>\n",
       "    </tr>\n",
       "  </tbody>\n",
       "</table>\n",
       "</div>"
      ],
      "text/plain": [
       "       Name  Age  Salary          JOB\n",
       "0    RACHEL   30  100000     DESIGNER\n",
       "1    MONICA   35   93000         CHEF\n",
       "2    PHOEBE   37   88000        MASUS\n",
       "3      ROSS   33  120000  PALENTOLOGY\n",
       "4  CHANDLER   34   94000           IT\n",
       "5      JOEY   30   95000       ARTIST"
      ]
     },
     "execution_count": 16,
     "metadata": {},
     "output_type": "execute_result"
    }
   ],
   "source": [
    "df"
   ]
  },
  {
   "cell_type": "code",
   "execution_count": 20,
   "metadata": {},
   "outputs": [
    {
     "data": {
      "text/html": [
       "<div>\n",
       "<style scoped>\n",
       "    .dataframe tbody tr th:only-of-type {\n",
       "        vertical-align: middle;\n",
       "    }\n",
       "\n",
       "    .dataframe tbody tr th {\n",
       "        vertical-align: top;\n",
       "    }\n",
       "\n",
       "    .dataframe thead th {\n",
       "        text-align: right;\n",
       "    }\n",
       "</style>\n",
       "<table border=\"1\" class=\"dataframe\">\n",
       "  <thead>\n",
       "    <tr style=\"text-align: right;\">\n",
       "      <th></th>\n",
       "      <th>Name</th>\n",
       "      <th>Age</th>\n",
       "      <th>Salary</th>\n",
       "      <th>JOB</th>\n",
       "    </tr>\n",
       "  </thead>\n",
       "  <tbody>\n",
       "    <tr>\n",
       "      <th>1</th>\n",
       "      <td>MONICA</td>\n",
       "      <td>35</td>\n",
       "      <td>93000</td>\n",
       "      <td>CHEF</td>\n",
       "    </tr>\n",
       "    <tr>\n",
       "      <th>3</th>\n",
       "      <td>ROSS</td>\n",
       "      <td>33</td>\n",
       "      <td>120000</td>\n",
       "      <td>PALENTOLOGY</td>\n",
       "    </tr>\n",
       "    <tr>\n",
       "      <th>5</th>\n",
       "      <td>JOEY</td>\n",
       "      <td>30</td>\n",
       "      <td>95000</td>\n",
       "      <td>ARTIST</td>\n",
       "    </tr>\n",
       "  </tbody>\n",
       "</table>\n",
       "</div>"
      ],
      "text/plain": [
       "     Name  Age  Salary          JOB\n",
       "1  MONICA   35   93000         CHEF\n",
       "3    ROSS   33  120000  PALENTOLOGY\n",
       "5    JOEY   30   95000       ARTIST"
      ]
     },
     "execution_count": 20,
     "metadata": {},
     "output_type": "execute_result"
    }
   ],
   "source": [
    "df.query(\"Name=='MONICA'| Salary==120000| JOB.str.startswith('ART')\")"
   ]
  },
  {
   "cell_type": "code",
   "execution_count": null,
   "metadata": {},
   "outputs": [],
   "source": [
    "fieldA=='valueA' | fieldA=='valueB' | fieldA.str.startswith('valueC')"
   ]
  }
 ],
 "metadata": {
  "kernelspec": {
   "display_name": "Python 3",
   "language": "python",
   "name": "python3"
  },
  "language_info": {
   "codemirror_mode": {
    "name": "ipython",
    "version": 3
   },
   "file_extension": ".py",
   "mimetype": "text/x-python",
   "name": "python",
   "nbconvert_exporter": "python",
   "pygments_lexer": "ipython3",
   "version": "3.9.6"
  }
 },
 "nbformat": 4,
 "nbformat_minor": 2
}
